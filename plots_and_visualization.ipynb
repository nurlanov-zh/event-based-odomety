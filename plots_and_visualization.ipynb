{
 "cells": [
  {
   "cell_type": "code",
   "execution_count": null,
   "metadata": {},
   "outputs": [],
   "source": [
    "import numpy as np\n",
    "import matplotlib.pyplot as plt"
   ]
  },
  {
   "cell_type": "code",
   "execution_count": null,
   "metadata": {},
   "outputs": [],
   "source": [
    "data = np.loadtxt('/tmp/final_cost.txt')"
   ]
  },
  {
   "cell_type": "code",
   "execution_count": null,
   "metadata": {},
   "outputs": [],
   "source": [
    "data.shape"
   ]
  },
  {
   "cell_type": "code",
   "execution_count": null,
   "metadata": {},
   "outputs": [],
   "source": [
    "data[:, 0].max()"
   ]
  },
  {
   "cell_type": "code",
   "execution_count": null,
   "metadata": {},
   "outputs": [],
   "source": [
    "columns = 3\n",
    "rows = 10\n",
    "fig, ax_array = plt.subplots(rows, columns, sharex=True, sharey=False, figsize = (14,20))\n",
    "plt.tight_layout(pad=3.0)\n",
    "for i,ax_row in enumerate(ax_array):\n",
    "    for j,axes in enumerate(ax_row):\n",
    "        axes.set_title('track_id: {}'.format(i * columns + j))\n",
    "        axes.hist(data[data[:, 0] == i * columns + j][:, 1], bins=50)\n",
    "        axes.tick_params(labelbottom=True)\n",
    "plt.show()"
   ]
  },
  {
   "cell_type": "code",
   "execution_count": null,
   "metadata": {},
   "outputs": [],
   "source": [
    "columns = 3\n",
    "rows = 10\n",
    "fig, ax_array = plt.subplots(rows, columns, sharex=False, sharey=True, figsize = (14,20))\n",
    "plt.tight_layout(pad=3.0)\n",
    "for i,ax_row in enumerate(ax_array):\n",
    "    for j,axes in enumerate(ax_row):\n",
    "        axes.set_title('track_id: {}'.format(i * columns + j))\n",
    "        axes.plot(data[data[:, 0] == i * columns + j][:, 2], data[data[:, 0] == i * columns + j][:, 1])\n",
    "        axes.tick_params(labelleft=True)\n",
    "plt.yticks(np.arange(0, 0.35, 0.05))\n",
    "plt.show()"
   ]
  },
  {
   "cell_type": "code",
   "execution_count": null,
   "metadata": {},
   "outputs": [],
   "source": []
  }
 ],
 "metadata": {
  "kernelspec": {
   "display_name": "Python 3",
   "language": "python",
   "name": "python3"
  },
  "language_info": {
   "codemirror_mode": {
    "name": "ipython",
    "version": 3
   },
   "file_extension": ".py",
   "mimetype": "text/x-python",
   "name": "python",
   "nbconvert_exporter": "python",
   "pygments_lexer": "ipython3",
   "version": "3.6.9"
  }
 },
 "nbformat": 4,
 "nbformat_minor": 4
}
